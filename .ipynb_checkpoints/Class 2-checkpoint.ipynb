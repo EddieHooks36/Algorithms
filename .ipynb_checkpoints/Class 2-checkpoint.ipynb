{
 "cells": [
  {
   "cell_type": "code",
   "execution_count": 7,
   "id": "09e8be41",
   "metadata": {},
   "outputs": [],
   "source": [
    "# The simplified approach\n",
    "\n",
    "class Stack:\n",
    "    def __init__(self):\n",
    "        self.items = []\n",
    "        \n",
    "    def push(self, element):\n",
    "        self.items.append(element)\n",
    "        \n",
    "    def pop(self):\n",
    "        return self.items.pop()\n",
    "    \n",
    "# nice to have methods:\n",
    "    def is_empty(self):\n",
    "        return self.items == []\n",
    "    \n",
    "    def size(self):\n",
    "        return len(self.items)\n",
    "    \n",
    "    def peek(self):\n",
    "        return self.items[len(self.items)-1]\n"
   ]
  },
  {
   "cell_type": "code",
   "execution_count": 17,
   "id": "493da033",
   "metadata": {},
   "outputs": [],
   "source": [
    "class Node:\n",
    "    def __init__(self, data):\n",
    "        self.data = data\n",
    "        self.above = None"
   ]
  },
  {
   "cell_type": "code",
   "execution_count": 26,
   "id": "577ba225",
   "metadata": {},
   "outputs": [],
   "source": [
    "# C Python\n",
    "# A garbage collected programming language\n",
    "# Reference counting\n",
    "# When the number of reference for an object in memory reaches 0, it is collected(the memory is freed up)\n",
    "\n",
    "class Stack:\n",
    "    def __init__(self):\n",
    "        self.base = None\n",
    "        \n",
    "    def push(self, element):\n",
    "        #what happens if our stack is empty and push is called?\n",
    "        new_node = Node(element)\n",
    "        if not self.base:\n",
    "            self.base = new_node\n",
    "        else:\n",
    "            current = self.base\n",
    "            while current.above:\n",
    "                current = current.above\n",
    "            current.above = new_node\n",
    "            \n",
    "    def pop(self):\n",
    "        if not self.base:\n",
    "            raise IndexError(\"Stack is empty\")\n",
    "        else:\n",
    "            current = self.base\n",
    "            prev = None\n",
    "            while current.above:\n",
    "                prev = current\n",
    "                current = current.above\n",
    "            if not prev:\n",
    "                datum = self.base.data\n",
    "                self.base= None\n",
    "                return datum\n",
    "            else:\n",
    "                datum = current.data\n",
    "                prev.above = None\n",
    "                return datum\n",
    "            \n",
    "    def is_empty(self):\n",
    "        return self.base == None\n",
    "    \n",
    "    def size(self):\n",
    "        count = 0\n",
    "        current = self.base\n",
    "        while current:\n",
    "            count += 1\n",
    "            current = current.above\n",
    "        return count\n",
    "    \n",
    "    def peek(self):\n",
    "        if not self.base:\n",
    "            raise IndexError(\"Stack is empty\")\n",
    "        else:\n",
    "            current = self.base\n",
    "            while current.above:\n",
    "                current = current.above\n",
    "            return current.data\n",
    "        \n",
    "    def __len__(self):\n",
    "        return self.size()\n",
    "    \n",
    "    \n",
    "    \n",
    "    \n",
    "    \n",
    "    \n",
    "    \n",
    "#                 if current.above:\n",
    "#                     while current.above:\n",
    "#                         current = current.above\n",
    "#                     datum = current.data\n",
    "            "
   ]
  },
  {
   "cell_type": "code",
   "execution_count": 27,
   "id": "21530421",
   "metadata": {},
   "outputs": [
    {
     "name": "stdout",
     "output_type": "stream",
     "text": [
      "6\n",
      "4573441560\n",
      "4573441528\n"
     ]
    }
   ],
   "source": [
    "# Primary data types\n",
    "# int, float, bool, imaginary\n",
    "# Pass by value\n",
    "\n",
    "x = 5\n",
    "y = x\n",
    "\n",
    "x = x + 1\n",
    "\n",
    "print(x)\n",
    "print(id(x))\n",
    "print(id(y))"
   ]
  },
  {
   "cell_type": "code",
   "execution_count": 28,
   "id": "a789865b",
   "metadata": {},
   "outputs": [
    {
     "name": "stdout",
     "output_type": "stream",
     "text": [
      "[1, 2, 3, 4]\n",
      "4623054272\n",
      "4623054272\n"
     ]
    }
   ],
   "source": [
    "x = [1, 2, 3]\n",
    "\n",
    "y = x\n",
    "\n",
    "x.append(4)\n",
    "\n",
    "print(y)\n",
    "print(id(x))\n",
    "print(id(y))"
   ]
  },
  {
   "cell_type": "code",
   "execution_count": 29,
   "id": "ff2df33d",
   "metadata": {},
   "outputs": [
    {
     "data": {
      "text/plain": [
       "'eiddE'"
      ]
     },
     "execution_count": 29,
     "metadata": {},
     "output_type": "execute_result"
    }
   ],
   "source": [
    "def invert_str(mystring):\n",
    "    stack = Stack()\n",
    "    for letter in mystring:\n",
    "        stack.push(letter)\n",
    "    out = \"\"\n",
    "    while not stack.is_empty():\n",
    "        out += stack.pop()\n",
    "    return out\n",
    "invert_str(\"Eddie\")"
   ]
  },
  {
   "cell_type": "code",
   "execution_count": 30,
   "id": "fd76f5cc",
   "metadata": {},
   "outputs": [],
   "source": [
    "#  Simplified queue\n",
    "\n",
    "class Queue:\n",
    "    def __init__(self):\n",
    "        self.items = []\n",
    "        \n",
    "    def enqueue(self, element):\n",
    "        self.imtems.insert(0, elements)\n",
    "        \n",
    "    def dequeue(self):\n",
    "        return self.items.pop()\n",
    "    \n",
    "    #nice to have\n",
    "    \n",
    "    def is_empty(self):\n",
    "        return len(self.items)\n",
    "    \n",
    "    def size(self):\n",
    "        return len(self.items)\n",
    "    \n",
    "    def peek(self):\n",
    "        return self.items[len(self.items)-1]"
   ]
  },
  {
   "cell_type": "code",
   "execution_count": null,
   "id": "67f44bf9",
   "metadata": {},
   "outputs": [],
   "source": []
  }
 ],
 "metadata": {
  "kernelspec": {
   "display_name": "Python 3 (ipykernel)",
   "language": "python",
   "name": "python3"
  },
  "language_info": {
   "codemirror_mode": {
    "name": "ipython",
    "version": 3
   },
   "file_extension": ".py",
   "mimetype": "text/x-python",
   "name": "python",
   "nbconvert_exporter": "python",
   "pygments_lexer": "ipython3",
   "version": "3.11.1"
  }
 },
 "nbformat": 4,
 "nbformat_minor": 5
}
