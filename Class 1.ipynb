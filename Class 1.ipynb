{
 "cells": [
  {
   "cell_type": "code",
   "execution_count": 3,
   "id": "cfc9285f",
   "metadata": {},
   "outputs": [
    {
     "ename": "SyntaxError",
     "evalue": "expected ':' (664637034.py, line 1)",
     "output_type": "error",
     "traceback": [
      "\u001b[0;36m  Cell \u001b[0;32mIn[3], line 1\u001b[0;36m\u001b[0m\n\u001b[0;31m    for letter in \"Hello, world\"\u001b[0m\n\u001b[0m                                ^\u001b[0m\n\u001b[0;31mSyntaxError\u001b[0m\u001b[0;31m:\u001b[0m expected ':'\n"
     ]
    }
   ],
   "source": [
    "for letter in \"Hello, world\"\n",
    "    print (letter)"
   ]
  },
  {
   "cell_type": "code",
   "execution_count": null,
   "id": "ad2944a5",
   "metadata": {},
   "outputs": [],
   "source": []
  },
  {
   "cell_type": "code",
   "execution_count": 4,
   "id": "c7c7f015",
   "metadata": {},
   "outputs": [
    {
     "ename": "SyntaxError",
     "evalue": "expected ':' (664637034.py, line 1)",
     "output_type": "error",
     "traceback": [
      "\u001b[0;36m  Cell \u001b[0;32mIn[4], line 1\u001b[0;36m\u001b[0m\n\u001b[0;31m    for letter in \"Hello, world\"\u001b[0m\n\u001b[0m                                ^\u001b[0m\n\u001b[0;31mSyntaxError\u001b[0m\u001b[0;31m:\u001b[0m expected ':'\n"
     ]
    }
   ],
   "source": [
    "for letter in \"Hello, world\"\n",
    "    print (letter)"
   ]
  },
  {
   "cell_type": "code",
   "execution_count": 5,
   "id": "81342dd8",
   "metadata": {},
   "outputs": [
    {
     "name": "stdout",
     "output_type": "stream",
     "text": [
      "H\n",
      "e\n",
      "l\n",
      "l\n",
      "o\n",
      ",\n",
      " \n",
      "w\n",
      "o\n",
      "r\n",
      "l\n",
      "d\n"
     ]
    }
   ],
   "source": [
    "for letter in \"Hello, world\":\n",
    "    print (letter)"
   ]
  },
  {
   "cell_type": "markdown",
   "id": "e92d901f",
   "metadata": {},
   "source": [
    "# CHALLENGE 1: Anagram checker\n",
    "###Given two strings (string_a and string_b) write a function that rturns True if these arre anagrams of each other, Fals otherwise.\n",
    "*Criteria*\n",
    ">Two strings are anagrams of each other if all the conditions below are met:\n",
    ">1. They must be of equal length.\n",
    ">2. They must use the exact same characters (the same amount of items).\n",
    "\n",
    "```\n",
    "Examples:\n",
    "heart and earth\n",
    "cars and scar\n",
    "rats and star\n",
    "```"
   ]
  },
  {
   "cell_type": "code",
   "execution_count": 6,
   "id": "0acade2e",
   "metadata": {},
   "outputs": [],
   "source": [
    "# Harry Potter\n",
    "# -> Tom Marvolo Riddle\n",
    "# ->Lord Voldemort"
   ]
  },
  {
   "cell_type": "code",
   "execution_count": 7,
   "id": "cf5f3758",
   "metadata": {},
   "outputs": [],
   "source": [
    "# def anagram_check(string_a, string_b):\n",
    "#     return sored(string_a) ==sorted(string_b)"
   ]
  },
  {
   "cell_type": "code",
   "execution_count": 8,
   "id": "aa129d03",
   "metadata": {},
   "outputs": [],
   "source": [
    "# Assessment/ Assembly/ Action"
   ]
  },
  {
   "cell_type": "code",
   "execution_count": null,
   "id": "7d2e4012",
   "metadata": {},
   "outputs": [],
   "source": [
    "# \"tac\" \"cat\"\n",
    "\n",
    "def anagram_check(string_a, string_b):\n",
    "    string_a = string_a.lower().replace(\"\",\"\")\n",
    "    string_a = string_b.lower().replace(\"\",\"\")\n",
    "    if len(string_a) !=len(string_b):\n",
    "        return False\n",
    "    seen_a = dict()\n",
    "    seen_b = dict()\n",
    "    for index in range (len(string_a)):\n",
    "        if string_a[index] in seen_a.keys():\n",
    "            seen_a[string_a[index]] += 1\n",
    "        else:\n",
    "            seen_a[string_a[index]] = 1\n",
    "        if string_b[index] in seen_b.keys():\n",
    "            seen_b[string_b[index]] += 1\n",
    "        else:\n",
    "            seen_b[string_b[index]] = 1\n",
    "        return seen_a == seen_b"
   ]
  }
 ],
 "metadata": {
  "kernelspec": {
   "display_name": "Python 3 (ipykernel)",
   "language": "python",
   "name": "python3"
  },
  "language_info": {
   "codemirror_mode": {
    "name": "ipython",
    "version": 3
   },
   "file_extension": ".py",
   "mimetype": "text/x-python",
   "name": "python",
   "nbconvert_exporter": "python",
   "pygments_lexer": "ipython3",
   "version": "3.11.1"
  }
 },
 "nbformat": 4,
 "nbformat_minor": 5
}
